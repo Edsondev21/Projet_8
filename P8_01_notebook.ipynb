{
  "nbformat": 4,
  "nbformat_minor": 0,
  "metadata": {
    "colab": {
      "name": "P8_01_notebook.ipynb",
      "provenance": []
    },
    "kernelspec": {
      "name": "python3",
      "display_name": "Python 3"
    },
    "language_info": {
      "name": "python"
    }
  },
  "cells": [
    {
      "cell_type": "code",
      "source": [
        "import numpy as np\n",
        "import pandas as pd\n",
        "import seaborn as sns\n",
        "import matplotlib.pyplot as plt"
      ],
      "metadata": {
        "id": "2bStlvLdHy5Q"
      },
      "execution_count": null,
      "outputs": []
    },
    {
      "cell_type": "markdown",
      "source": [
        "## Installation Spark"
      ],
      "metadata": {
        "id": "oLtjbQ_XTD1k"
      }
    },
    {
      "cell_type": "code",
      "source": [
        "# installation de jdk java\n",
        "!apt-get update\n",
        "!apt-get install openjdk-8-jdk-headless -qq > /dev/null\n",
        "\n",
        "# Installation de spark\n",
        "!wget -q https://archive.apache.org/dist/spark/spark-3.0.3/spark-3.0.3-bin-hadoop2.7.tgz\n",
        "!tar xf spark-3.0.3-bin-hadoop2.7.tgz\n",
        "!pip install pyspark==3.0.3\n",
        "\n",
        "# Importation de fichier .jar\n",
        "!wget -q https://repo1.maven.org/maven2/org/apache/hadoop/hadoop-aws/2.7.4/hadoop-aws-2.7.4.jar\n",
        "!wget -q https://repo1.maven.org/maven2/com/amazonaws/aws-java-sdk/1.7.4/aws-java-sdk-1.7.4.jar\n",
        "!mv /content/aws-java-sdk-1.7.4.jar /content/spark-3.0.3-bin-hadoop2.7/jars/\n",
        "!mv /content/hadoop-aws-2.7.4.jar /content/spark-3.0.3-bin-hadoop2.7/jars/\n",
        "\n",
        "# Installation de findspark\n",
        "!pip install -q findspark\n",
        "!ls"
      ],
      "metadata": {
        "colab": {
          "base_uri": "https://localhost:8080/"
        },
        "id": "EP3LSeNGHTil",
        "outputId": "f290ae9c-6b74-40a3-fd8d-f207fecbe5a9"
      },
      "execution_count": null,
      "outputs": [
        {
          "output_type": "stream",
          "name": "stdout",
          "text": [
            "\r0% [Working]\r            \rGet:1 https://cloud.r-project.org/bin/linux/ubuntu bionic-cran40/ InRelease [3,626 B]\n",
            "Ign:2 https://developer.download.nvidia.com/compute/cuda/repos/ubuntu1804/x86_64  InRelease\n",
            "Ign:3 https://developer.download.nvidia.com/compute/machine-learning/repos/ubuntu1804/x86_64  InRelease\n",
            "Get:4 https://developer.download.nvidia.com/compute/cuda/repos/ubuntu1804/x86_64  Release [696 B]\n",
            "Hit:5 https://developer.download.nvidia.com/compute/machine-learning/repos/ubuntu1804/x86_64  Release\n",
            "Get:6 https://developer.download.nvidia.com/compute/cuda/repos/ubuntu1804/x86_64  Release.gpg [836 B]\n",
            "Get:7 http://security.ubuntu.com/ubuntu bionic-security InRelease [88.7 kB]\n",
            "Hit:8 http://archive.ubuntu.com/ubuntu bionic InRelease\n",
            "Get:9 http://ppa.launchpad.net/c2d4u.team/c2d4u4.0+/ubuntu bionic InRelease [15.9 kB]\n",
            "Get:10 http://archive.ubuntu.com/ubuntu bionic-updates InRelease [88.7 kB]\n",
            "Hit:11 http://ppa.launchpad.net/cran/libgit2/ubuntu bionic InRelease\n",
            "Get:12 http://archive.ubuntu.com/ubuntu bionic-backports InRelease [74.6 kB]\n",
            "Hit:13 http://ppa.launchpad.net/deadsnakes/ppa/ubuntu bionic InRelease\n",
            "Get:15 http://ppa.launchpad.net/graphics-drivers/ppa/ubuntu bionic InRelease [21.3 kB]\n",
            "Get:16 https://developer.download.nvidia.com/compute/cuda/repos/ubuntu1804/x86_64  Packages [929 kB]\n",
            "Get:17 http://ppa.launchpad.net/c2d4u.team/c2d4u4.0+/ubuntu bionic/main Sources [1,827 kB]\n",
            "Get:18 http://security.ubuntu.com/ubuntu bionic-security/universe amd64 Packages [1,474 kB]\n",
            "Get:19 http://security.ubuntu.com/ubuntu bionic-security/restricted amd64 Packages [806 kB]\n",
            "Get:20 http://security.ubuntu.com/ubuntu bionic-security/main amd64 Packages [2,596 kB]\n",
            "Get:21 http://ppa.launchpad.net/c2d4u.team/c2d4u4.0+/ubuntu bionic/main amd64 Packages [937 kB]\n",
            "Get:22 http://archive.ubuntu.com/ubuntu bionic-updates/restricted amd64 Packages [840 kB]\n",
            "Get:23 http://archive.ubuntu.com/ubuntu bionic-updates/main amd64 Packages [3,035 kB]\n",
            "Get:24 http://archive.ubuntu.com/ubuntu bionic-updates/universe amd64 Packages [2,252 kB]\n",
            "Get:25 http://ppa.launchpad.net/graphics-drivers/ppa/ubuntu bionic/main amd64 Packages [42.8 kB]\n",
            "Fetched 15.0 MB in 7s (2,198 kB/s)\n",
            "Reading package lists... Done\n",
            "Collecting pyspark==3.0.3\n",
            "  Downloading pyspark-3.0.3.tar.gz (209.1 MB)\n",
            "\u001b[K     |████████████████████████████████| 209.1 MB 50 kB/s \n",
            "\u001b[?25hCollecting py4j==0.10.9\n",
            "  Downloading py4j-0.10.9-py2.py3-none-any.whl (198 kB)\n",
            "\u001b[K     |████████████████████████████████| 198 kB 54.2 MB/s \n",
            "\u001b[?25hBuilding wheels for collected packages: pyspark\n",
            "  Building wheel for pyspark (setup.py) ... \u001b[?25l\u001b[?25hdone\n",
            "  Created wheel for pyspark: filename=pyspark-3.0.3-py2.py3-none-any.whl size=209435971 sha256=9e2cd7416f4d87183a1c1de3e7aa68411d3328454cb22a80a4a995de8b06aa11\n",
            "  Stored in directory: /root/.cache/pip/wheels/7e/6d/0a/6b0bf301bc056d9af03194b732b9f49ad2fceb205aab2984fd\n",
            "Successfully built pyspark\n",
            "Installing collected packages: py4j, pyspark\n",
            "Successfully installed py4j-0.10.9 pyspark-3.0.3\n",
            "sample_data  spark-3.0.3-bin-hadoop2.7\tspark-3.0.3-bin-hadoop2.7.tgz\n"
          ]
        }
      ]
    },
    {
      "cell_type": "code",
      "source": [
        "import os\n",
        "\n",
        "# Variables d'environnement java et spark\n",
        "os.environ[\"JAVA_HOME\"] = \"/usr/lib/jvm/java-8-openjdk-amd64\"\n",
        "os.environ[\"SPARK_HOME\"] = \"/content/spark-3.0.3-bin-hadoop2.7\""
      ],
      "metadata": {
        "id": "NQbSuz1OHeGa"
      },
      "execution_count": null,
      "outputs": []
    },
    {
      "cell_type": "code",
      "source": [
        "import pyspark\n",
        "from pyspark import SparkContext\n",
        "from pyspark.sql import SparkSession\n",
        "\n",
        "# Variables d'environnement permettant la connexion avec AWS\n",
        "os.environ['AWS_PROFILE'] = 'default'\n",
        "os.environ['AWS_ACCESS_KEY_ID'] = '***'\n",
        "os.environ['AWS_SECRET_ACCESS_KEY'] = '***'\n",
        "os.environ['PYSPARK_SUBMIT_ARGS'] = f'--jars {os.environ[\"SPARK_HOME\"]}/jars/hadoop-aws-2.7.4.jar,{os.environ[\"SPARK_HOME\"]}/jars/aws-java-sdk-1.7.4.jar pyspark-shell'"
      ],
      "metadata": {
        "id": "5R4gLT0wHwlr"
      },
      "execution_count": null,
      "outputs": []
    },
    {
      "cell_type": "code",
      "source": [
        "spark = SparkSession.builder \\\n",
        "            .appName(\"my_app\") \\\n",
        "            .config('spark.sql.codegen.wholeStage', False) \\\n",
        "            .config('spark.sql.execution.arrow.pyspark.enabled', True) \\\n",
        "            .config('spark.sql.session.timeZone', 'UTC') \\\n",
        "            .config('spark.jars', f'{os.environ[\"SPARK_HOME\"]}/jars/hadoop-aws-2.7.4.jar,{os.environ[\"SPARK_HOME\"]}/jars/aws-java-sdk-1.7.4.jar') \\\n",
        "            .config('spark.driver.extraJavaOptions', '-Dcom.amazonaws.services.s3.enableV4') \\\n",
        "            .config('spark.executor.extraJavaOptions', '-Dcom.amazonaws.services.s3.enableV4') \\\n",
        "            .getOrCreate()"
      ],
      "metadata": {
        "id": "R7LfleLjJYJN"
      },
      "execution_count": null,
      "outputs": []
    },
    {
      "cell_type": "code",
      "source": [
        "sc = spark.sparkContext\n",
        "\n",
        "sc._jsc.hadoopConfiguration().set(\"fs.s3a.awsAccessKeyId\", os.environ.get('AWS_ACCESS_KEY_ID'))\n",
        "sc._jsc.hadoopConfiguration().set(\"fs.s3a.awsSecretAccessKey\", os.environ.get('AWS_SECRET_ACCESS_KEY'))\n",
        "sc._jsc.hadoopConfiguration().set(\"fs.s3a.impl\",\"org.apache.hadoop.fs.s3a.S3AFileSystem\")\n",
        "sc._jsc.hadoopConfiguration().set(\"com.amazonaws.services.s3.enableV4\", \"true\")\n",
        "sc._jsc.hadoopConfiguration().set(\"fs.s3a.aws.credentials.provider\", \"com.amazonaws.auth.profile.ProfileCredentialsProvider\")\n",
        "sc._jsc.hadoopConfiguration().set(\"fs.s3a.endpoint\", \"s3.eu-west-3.amazonaws.com\")"
      ],
      "metadata": {
        "id": "VQMZo-j0JYLt"
      },
      "execution_count": null,
      "outputs": []
    },
    {
      "cell_type": "markdown",
      "source": [
        "## Chargement des données"
      ],
      "metadata": {
        "id": "wiC3niy0Xd2L"
      }
    },
    {
      "cell_type": "code",
      "source": [
        "# Importation des images depuis bucket S3\n",
        "images = spark.read.format(\"binaryfile\").load(\"s3a://pr8/Training/*\")\n",
        "\n",
        "images.printSchema()"
      ],
      "metadata": {
        "colab": {
          "base_uri": "https://localhost:8080/"
        },
        "id": "w37A04peJYOL",
        "outputId": "eedea423-0d08-4138-99ff-5116d33d1079"
      },
      "execution_count": null,
      "outputs": [
        {
          "output_type": "stream",
          "name": "stdout",
          "text": [
            "root\n",
            " |-- path: string (nullable = true)\n",
            " |-- modificationTime: timestamp (nullable = true)\n",
            " |-- length: long (nullable = true)\n",
            " |-- content: binary (nullable = true)\n",
            "\n"
          ]
        }
      ]
    },
    {
      "cell_type": "code",
      "source": [
        "images.show(5)"
      ],
      "metadata": {
        "colab": {
          "base_uri": "https://localhost:8080/"
        },
        "id": "cNBgn_XsVBCS",
        "outputId": "d1b26a73-9845-4989-81b4-172662c4904b"
      },
      "execution_count": null,
      "outputs": [
        {
          "output_type": "stream",
          "name": "stdout",
          "text": [
            "+--------------------+-------------------+------+--------------------+\n",
            "|                path|   modificationTime|length|             content|\n",
            "+--------------------+-------------------+------+--------------------+\n",
            "|s3a://pr8/Trainin...|2022-02-08 09:50:11|  6371|[FF D8 FF E0 00 1...|\n",
            "|s3a://pr8/Trainin...|2022-02-08 09:50:11|  5899|[FF D8 FF E0 00 1...|\n",
            "|s3a://pr8/Trainin...|2022-02-08 09:50:12|  5865|[FF D8 FF E0 00 1...|\n",
            "|s3a://pr8/Trainin...|2022-02-08 09:50:13|  5756|[FF D8 FF E0 00 1...|\n",
            "|s3a://pr8/Trainin...|2022-02-08 09:50:25|  5138|[FF D8 FF E0 00 1...|\n",
            "+--------------------+-------------------+------+--------------------+\n",
            "only showing top 5 rows\n",
            "\n"
          ]
        }
      ]
    },
    {
      "cell_type": "code",
      "source": [
        "from pyspark.sql.functions import col, pandas_udf, PandasUDFType, split\n",
        "\n",
        "# Créer nouvelle colonne 'label'\n",
        "image_df = images.withColumn('label', split(col('path'), '/').getItem(4))\n",
        "\n",
        "# Choisir les 3 colonnes nécessaire\n",
        "image_df = image_df.select('path', 'content', 'label')\n",
        "image_df.show()"
      ],
      "metadata": {
        "colab": {
          "base_uri": "https://localhost:8080/"
        },
        "id": "Xi2Cs0t8LUnq",
        "outputId": "f3aa8394-dd74-4760-eb43-2784156a370d"
      },
      "execution_count": null,
      "outputs": [
        {
          "output_type": "stream",
          "name": "stdout",
          "text": [
            "+--------------------+--------------------+------+\n",
            "|                path|             content| label|\n",
            "+--------------------+--------------------+------+\n",
            "|s3a://pr8/Trainin...|[FF D8 FF E0 00 1...|Lychee|\n",
            "|s3a://pr8/Trainin...|[FF D8 FF E0 00 1...|Lychee|\n",
            "|s3a://pr8/Trainin...|[FF D8 FF E0 00 1...|Lychee|\n",
            "|s3a://pr8/Trainin...|[FF D8 FF E0 00 1...|Lychee|\n",
            "|s3a://pr8/Trainin...|[FF D8 FF E0 00 1...|  Kaki|\n",
            "|s3a://pr8/Trainin...|[FF D8 FF E0 00 1...| Lemon|\n",
            "|s3a://pr8/Trainin...|[FF D8 FF E0 00 1...| Lemon|\n",
            "|s3a://pr8/Trainin...|[FF D8 FF E0 00 1...| Lemon|\n",
            "|s3a://pr8/Trainin...|[FF D8 FF E0 00 1...|  Kaki|\n",
            "|s3a://pr8/Trainin...|[FF D8 FF E0 00 1...|  Kaki|\n",
            "|s3a://pr8/Trainin...|[FF D8 FF E0 00 1...|  Kaki|\n",
            "|s3a://pr8/Trainin...|[FF D8 FF E0 00 1...| Lemon|\n",
            "|s3a://pr8/Trainin...|[FF D8 FF E0 00 1...|Banana|\n",
            "|s3a://pr8/Trainin...|[FF D8 FF E0 00 1...|Banana|\n",
            "|s3a://pr8/Trainin...|[FF D8 FF E0 00 1...|Banana|\n",
            "|s3a://pr8/Trainin...|[FF D8 FF E0 00 1...|Banana|\n",
            "+--------------------+--------------------+------+\n",
            "\n"
          ]
        }
      ]
    },
    {
      "cell_type": "markdown",
      "source": [
        "## Extraction des features"
      ],
      "metadata": {
        "id": "PKIazCkpXOOn"
      }
    },
    {
      "cell_type": "code",
      "source": [
        "import tensorflow as tf\n",
        "from tensorflow.keras.applications.resnet50 import ResNet50, preprocess_input\n",
        "from tensorflow.keras.preprocessing.image import img_to_array"
      ],
      "metadata": {
        "id": "jLdn7et2XChh"
      },
      "execution_count": null,
      "outputs": []
    },
    {
      "cell_type": "markdown",
      "source": [
        "Utilisation du modèle ResNet50 pour extraire les features (en excluant la dernière couche car nous ne l'utilisons par pour de la classification mais pour l'extraction de features)"
      ],
      "metadata": {
        "id": "O2KTAqz-xNhi"
      }
    },
    {
      "cell_type": "code",
      "source": [
        "model = ResNet50(include_top=False)"
      ],
      "metadata": {
        "id": "JeLZxF60yvmL",
        "colab": {
          "base_uri": "https://localhost:8080/"
        },
        "outputId": "d15b3934-0357-4feb-88e9-f9927c65688e"
      },
      "execution_count": null,
      "outputs": [
        {
          "output_type": "stream",
          "name": "stdout",
          "text": [
            "Downloading data from https://storage.googleapis.com/tensorflow/keras-applications/resnet/resnet50_weights_tf_dim_ordering_tf_kernels_notop.h5\n",
            "94773248/94765736 [==============================] - 1s 0us/step\n",
            "94781440/94765736 [==============================] - 1s 0us/step\n"
          ]
        }
      ]
    },
    {
      "cell_type": "markdown",
      "source": [
        "Afin d'éviter d'appeler chaque noeud individuellement on va diffuser le poids du modèle à tous les noeuds"
      ],
      "metadata": {
        "id": "-8lUi4yAzHOS"
      }
    },
    {
      "cell_type": "code",
      "source": [
        "bc_model_weights = sc.broadcast(model.get_weights())\n",
        "\n",
        "def model_fn():\n",
        "    \"\"\"\n",
        "    Returns a ResNet50 model with top layer removed and broadcasted pretrained weights.\n",
        "    \"\"\"\n",
        "    model = ResNet50(weights=None, include_top=False)\n",
        "    model.set_weights(bc_model_weights.value)\n",
        "    return model"
      ],
      "metadata": {
        "id": "q69WZZ_fXCnd"
      },
      "execution_count": null,
      "outputs": []
    },
    {
      "cell_type": "markdown",
      "source": [
        "Fonction permettant le pre-processing des images "
      ],
      "metadata": {
        "id": "ncs-6NeEzw6s"
      }
    },
    {
      "cell_type": "code",
      "source": [
        "from PIL import Image\n",
        "import io\n",
        "\n",
        "def preprocess(content):\n",
        "    \"\"\"\n",
        "    Preprocesses raw image bytes for prediction.\n",
        "    \"\"\"\n",
        "    img = Image.open(io.BytesIO(content)).resize([224, 224])\n",
        "    arr = img_to_array(img)\n",
        "    return preprocess_input(arr) "
      ],
      "metadata": {
        "id": "7cTLuh8ZXCpk"
      },
      "execution_count": null,
      "outputs": []
    },
    {
      "cell_type": "markdown",
      "source": [
        "Utilisation du modèle sur chaque image afin d'extraire les features "
      ],
      "metadata": {
        "id": "bD8--gsU1MZI"
      }
    },
    {
      "cell_type": "code",
      "source": [
        "def featurize_series(model, content_series):\n",
        "    \n",
        "    \"\"\"\n",
        "    Featurize a pd.Series of raw images using the input model.\n",
        "    :return: a pd.Series of image features\n",
        "    \"\"\"\n",
        "    \n",
        "    input = np.stack(content_series.map(preprocess)) \n",
        "    preds = model.predict(input)\n",
        "    output = [p.flatten() for p in preds]\n",
        "    return pd.Series(output)"
      ],
      "metadata": {
        "id": "RdD1YEtUXCsA"
      },
      "execution_count": null,
      "outputs": []
    },
    {
      "cell_type": "markdown",
      "source": [
        "Regrouper toutes les fonction précédentes en 1 en utilisant pandas_udf. Ceci permet d'appliquer des fonction sur un dataframe spark en passant par pandas"
      ],
      "metadata": {
        "id": "w0cmx6vs2agU"
      }
    },
    {
      "cell_type": "code",
      "source": [
        "from typing import Iterator\n",
        "\n",
        "@pandas_udf('array<float>', PandasUDFType.SCALAR_ITER)\n",
        "def featurize_udf(content_series_iter) :\n",
        "    '''\n",
        "    This method is a Scalar Iterator pandas UDF wrapping our featurization function.\n",
        "    The decorator specifies that this returns a Spark DataFrame column of type ArrayType(FloatType).\n",
        "  \n",
        "    :param content_series_iter: This argument is an iterator over batches of data, where each batch\n",
        "                                is a pandas Series of image data.\n",
        "    '''\n",
        "    model = model_fn()\n",
        "    for content_series in content_series_iter:\n",
        "        yield featurize_series(model, content_series)"
      ],
      "metadata": {
        "colab": {
          "base_uri": "https://localhost:8080/"
        },
        "id": "-oBSY_A4XCuc",
        "outputId": "7441fe10-f1cc-4a4b-812a-b68430847404"
      },
      "execution_count": null,
      "outputs": [
        {
          "output_type": "stream",
          "name": "stderr",
          "text": [
            "/usr/local/lib/python3.7/dist-packages/pyspark/sql/pandas/functions.py:386: UserWarning: In Python 3.6+ and Spark 3.0+, it is preferred to specify type hints for pandas UDF instead of specifying pandas UDF type which will be deprecated in the future releases. See SPARK-28264 for more details.\n",
            "  \"in the future releases. See SPARK-28264 for more details.\", UserWarning)\n"
          ]
        }
      ]
    },
    {
      "cell_type": "code",
      "source": [
        "# Permet d'éviter les erreurs liées à l'insuffisance de mémoire en limitant le nombre de lignes par lot\n",
        "spark.conf.set(\"spark.sql.execution.arrow.maxRecordsPerBatch\", \"1024\")"
      ],
      "metadata": {
        "id": "9hLEnxYHlF3l"
      },
      "execution_count": null,
      "outputs": []
    },
    {
      "cell_type": "code",
      "source": [
        "# Remplacer la colonne 'content' par les features extraite\n",
        "features_df = image_df.select(col(\"path\"), col(\"label\"), featurize_udf(\"content\").alias(\"features\"))\n",
        "features_df.printSchema()\n",
        "features_df.show()"
      ],
      "metadata": {
        "colab": {
          "base_uri": "https://localhost:8080/"
        },
        "id": "yuldjXG4lF6a",
        "outputId": "41ed6e68-781b-48b2-9ea2-049e924d783e"
      },
      "execution_count": null,
      "outputs": [
        {
          "output_type": "stream",
          "name": "stdout",
          "text": [
            "root\n",
            " |-- path: string (nullable = true)\n",
            " |-- label: string (nullable = true)\n",
            " |-- features: array (nullable = true)\n",
            " |    |-- element: float (containsNull = true)\n",
            "\n",
            "+--------------------+------+--------------------+\n",
            "|                path| label|            features|\n",
            "+--------------------+------+--------------------+\n",
            "|s3a://pr8/Trainin...|Lychee|[0.0, 0.0, 0.0, 0...|\n",
            "|s3a://pr8/Trainin...|Lychee|[0.0, 0.0, 0.0, 0...|\n",
            "|s3a://pr8/Trainin...|Lychee|[0.0, 0.0, 0.0, 0...|\n",
            "|s3a://pr8/Trainin...|Lychee|[0.0, 0.0, 0.0, 0...|\n",
            "|s3a://pr8/Trainin...|  Kaki|[0.0, 0.0, 0.0, 0...|\n",
            "|s3a://pr8/Trainin...| Lemon|[0.0, 0.0, 0.0, 0...|\n",
            "|s3a://pr8/Trainin...| Lemon|[0.0, 0.0, 0.0, 0...|\n",
            "|s3a://pr8/Trainin...| Lemon|[0.0, 0.0, 0.0, 0...|\n",
            "|s3a://pr8/Trainin...|  Kaki|[0.2651664, 0.0, ...|\n",
            "|s3a://pr8/Trainin...|  Kaki|[0.0, 0.0, 0.0, 0...|\n",
            "|s3a://pr8/Trainin...|  Kaki|[0.0, 0.0, 0.0, 0...|\n",
            "|s3a://pr8/Trainin...| Lemon|[0.0, 0.0, 0.0, 0...|\n",
            "|s3a://pr8/Trainin...|Banana|[0.0, 0.0, 0.0, 0...|\n",
            "|s3a://pr8/Trainin...|Banana|[0.0, 0.0, 0.0, 0...|\n",
            "|s3a://pr8/Trainin...|Banana|[0.0, 0.0, 0.0, 0...|\n",
            "|s3a://pr8/Trainin...|Banana|[0.0, 0.0, 0.0, 0...|\n",
            "+--------------------+------+--------------------+\n",
            "\n"
          ]
        }
      ]
    },
    {
      "cell_type": "code",
      "source": [
        "from pyspark.sql.functions import udf\n",
        "from pyspark.ml.linalg import Vectors, VectorUDT\n",
        "\n",
        "\n",
        "list_to_vector_udf = udf(lambda l: Vectors.dense(l), VectorUDT())\n",
        "features_df = features_df.select(col(\"path\"),  col(\"label\"), list_to_vector_udf(features_df[\"features\"]).alias(\"features\"))"
      ],
      "metadata": {
        "id": "XvMUkLumlF9I"
      },
      "execution_count": null,
      "outputs": []
    },
    {
      "cell_type": "code",
      "source": [
        "features_df.printSchema()"
      ],
      "metadata": {
        "id": "ORcYkf4elF-y",
        "colab": {
          "base_uri": "https://localhost:8080/"
        },
        "outputId": "64e2b752-6237-4612-ebe2-8fffaab17bae"
      },
      "execution_count": null,
      "outputs": [
        {
          "output_type": "stream",
          "name": "stdout",
          "text": [
            "root\n",
            " |-- path: string (nullable = true)\n",
            " |-- label: string (nullable = true)\n",
            " |-- features: vector (nullable = true)\n",
            "\n"
          ]
        }
      ]
    },
    {
      "cell_type": "markdown",
      "source": [
        "## Réduction de dimension par ACP"
      ],
      "metadata": {
        "id": "yjf9icIds2CL"
      }
    },
    {
      "cell_type": "markdown",
      "source": [
        "Pour pouvoir faire une réduction de dimension il faut que les features soient standardisé"
      ],
      "metadata": {
        "id": "WfvWbDo-49vG"
      }
    },
    {
      "cell_type": "code",
      "source": [
        "from pyspark.ml.feature import StringIndexer, StandardScaler\n",
        "from pyspark.ml.feature import PCA\n",
        "\n",
        "standardizer = StandardScaler(withMean=True, withStd=True,\n",
        "                              inputCol='features',\n",
        "                              outputCol='scaled_feat')\n",
        "std = standardizer.fit(features_df)\n",
        "features_df_scaled = std.transform(features_df)"
      ],
      "metadata": {
        "id": "CFt_2S95lGCJ"
      },
      "execution_count": null,
      "outputs": []
    },
    {
      "cell_type": "code",
      "source": [
        "#Visualisation du nouveau dataframe obtenu\n",
        "features_df_scaled.printSchema()\n",
        "features_df_scaled.show(5) "
      ],
      "metadata": {
        "id": "acXBHxybXCyV",
        "colab": {
          "base_uri": "https://localhost:8080/"
        },
        "outputId": "5051b582-dac2-4438-8e72-b8c96e3560dd"
      },
      "execution_count": null,
      "outputs": [
        {
          "output_type": "stream",
          "name": "stdout",
          "text": [
            "root\n",
            " |-- path: string (nullable = true)\n",
            " |-- label: string (nullable = true)\n",
            " |-- features: vector (nullable = true)\n",
            " |-- scaled_feat: vector (nullable = true)\n",
            "\n",
            "+--------------------+------+--------------------+--------------------+\n",
            "|                path| label|            features|         scaled_feat|\n",
            "+--------------------+------+--------------------+--------------------+\n",
            "|s3a://pr8/Trainin...|Lychee|[0.0,0.0,0.0,0.0,...|[-0.25,0.0,0.0,0....|\n",
            "|s3a://pr8/Trainin...|Lychee|[0.0,0.0,0.0,0.0,...|[-0.25,0.0,0.0,0....|\n",
            "|s3a://pr8/Trainin...|Lychee|[0.0,0.0,0.0,0.0,...|[-0.25,0.0,0.0,0....|\n",
            "|s3a://pr8/Trainin...|Lychee|[0.0,0.0,0.0,0.0,...|[-0.25,0.0,0.0,0....|\n",
            "|s3a://pr8/Trainin...|  Kaki|[0.0,0.0,0.0,0.0,...|[-0.25,0.0,0.0,0....|\n",
            "+--------------------+------+--------------------+--------------------+\n",
            "only showing top 5 rows\n",
            "\n"
          ]
        }
      ]
    },
    {
      "cell_type": "code",
      "source": [
        "from pyspark.ml.feature import PCA\n",
        "\n",
        "pca = PCA(k=16, inputCol=\"scaled_feat\", outputCol=\"pca\")\n",
        "modelpca = pca.fit(features_df_scaled)\n",
        "transformed = modelpca.transform(features_df_scaled)"
      ],
      "metadata": {
        "id": "pZXH-H4qtVqA"
      },
      "execution_count": null,
      "outputs": []
    },
    {
      "cell_type": "code",
      "source": [
        "transformed.printSchema()\n",
        "transformed.show(3)"
      ],
      "metadata": {
        "colab": {
          "base_uri": "https://localhost:8080/"
        },
        "id": "UePA8w5blNXt",
        "outputId": "756f5cf7-c915-464a-df10-2ac4e49444c5"
      },
      "execution_count": null,
      "outputs": [
        {
          "output_type": "stream",
          "name": "stdout",
          "text": [
            "root\n",
            " |-- path: string (nullable = true)\n",
            " |-- label: string (nullable = true)\n",
            " |-- features: vector (nullable = true)\n",
            " |-- scaled_feat: vector (nullable = true)\n",
            " |-- pca: vector (nullable = true)\n",
            "\n",
            "+--------------------+------+--------------------+--------------------+--------------------+\n",
            "|                path| label|            features|         scaled_feat|                 pca|\n",
            "+--------------------+------+--------------------+--------------------+--------------------+\n",
            "|s3a://pr8/Trainin...|Lychee|[0.0,0.0,0.0,0.0,...|[-0.25,0.0,0.0,0....|[55.9428270752314...|\n",
            "|s3a://pr8/Trainin...|Lychee|[0.0,0.0,0.0,0.0,...|[-0.25,0.0,0.0,0....|[51.1364085813633...|\n",
            "|s3a://pr8/Trainin...|Lychee|[0.0,0.0,0.0,0.0,...|[-0.25,0.0,0.0,0....|[47.1744256232098...|\n",
            "+--------------------+------+--------------------+--------------------+--------------------+\n",
            "only showing top 3 rows\n",
            "\n"
          ]
        }
      ]
    },
    {
      "cell_type": "code",
      "source": [
        "var = modelpca.explainedVariance.cumsum()\n",
        "\n",
        "plt.plot(var)\n",
        "plt.title('Analyse par Composante Principale', size = 16)\n",
        "plt.xlabel(\"Nombre de composantes\", size =15)\n",
        "plt.ylabel(\"Variance expliqué (%)\", size =15)"
      ],
      "metadata": {
        "colab": {
          "base_uri": "https://localhost:8080/",
          "height": 319
        },
        "id": "ib9Cc-G29G9d",
        "outputId": "5c1fd6ba-3e6b-4af9-9c61-ec8bdc1713cd"
      },
      "execution_count": null,
      "outputs": [
        {
          "output_type": "execute_result",
          "data": {
            "text/plain": [
              "Text(0, 0.5, 'Variance expliqué (%)')"
            ]
          },
          "metadata": {},
          "execution_count": 25
        },
        {
          "output_type": "display_data",
          "data": {
            "image/png": "[encoded data removed]",
            "text/plain": [
              "<Figure size 432x288 with 1 Axes>"
            ]
          },
          "metadata": {
            "needs_background": "light"
          }
        }
      ]
    },
    {
      "cell_type": "markdown",
      "source": [
        "# Enregistrement"
      ],
      "metadata": {
        "id": "XZkTiJRUwffw"
      }
    },
    {
      "cell_type": "code",
      "source": [
        "transformed.printSchema()"
      ],
      "metadata": {
        "colab": {
          "base_uri": "https://localhost:8080/"
        },
        "id": "js1tpB7iT-vI",
        "outputId": "96b6df1c-ece9-4a5a-e558-272e9e01bedf"
      },
      "execution_count": null,
      "outputs": [
        {
          "output_type": "stream",
          "name": "stdout",
          "text": [
            "root\n",
            " |-- path: string (nullable = true)\n",
            " |-- label: string (nullable = true)\n",
            " |-- features: vector (nullable = true)\n",
            " |-- scaled_feat: vector (nullable = true)\n",
            " |-- pca: vector (nullable = true)\n",
            "\n"
          ]
        }
      ]
    },
    {
      "cell_type": "code",
      "source": [
        "from pyspark.ml.functions import vector_to_array\n",
        "\n",
        "df = transformed.withColumn(\"pca_array\", vector_to_array(\"pca\"))\\\n",
        "    .select([\"path\", \"label\"] + [col(\"pca_array\")[i] for i in range(9)])\n"
      ],
      "metadata": {
        "id": "TBikVn7AUh66"
      },
      "execution_count": null,
      "outputs": []
    },
    {
      "cell_type": "code",
      "source": [
        "df.show(2)"
      ],
      "metadata": {
        "colab": {
          "base_uri": "https://localhost:8080/"
        },
        "id": "VSX8W5rmLf6w",
        "outputId": "16ce316a-c058-41fc-e5aa-e164cfb61e1c"
      },
      "execution_count": null,
      "outputs": [
        {
          "output_type": "stream",
          "name": "stdout",
          "text": [
            "+--------------------+------+-----------------+------------------+------------------+------------------+-----------------+-------------------+------------------+-------------------+------------------+\n",
            "|                path| label|     pca_array[0]|      pca_array[1]|      pca_array[2]|      pca_array[3]|     pca_array[4]|       pca_array[5]|      pca_array[6]|       pca_array[7]|      pca_array[8]|\n",
            "+--------------------+------+-----------------+------------------+------------------+------------------+-----------------+-------------------+------------------+-------------------+------------------+\n",
            "|s3a://pr8/Trainin...|Lychee|55.94282707523141|109.39311771575709|-43.09140040012839|-70.86746442246283|51.88364337875799|-0.4682306756607466|2.3443208138116964|-11.062628350834457|-3.485172471712496|\n",
            "|s3a://pr8/Trainin...|Lychee|51.13640858136338| 85.33756865940617|-40.66071485370171|-56.46045021810719|32.02140241056306| 18.629645869717987| 4.649833711117812| 10.356769324346796|-3.124829902387121|\n",
            "+--------------------+------+-----------------+------------------+------------------+------------------+-----------------+-------------------+------------------+-------------------+------------------+\n",
            "only showing top 2 rows\n",
            "\n"
          ]
        }
      ]
    },
    {
      "cell_type": "code",
      "source": [
        "df.printSchema()"
      ],
      "metadata": {
        "colab": {
          "base_uri": "https://localhost:8080/"
        },
        "id": "uQxBLGGZv9bC",
        "outputId": "0d89731e-1b67-4fec-971c-c7589a550e25"
      },
      "execution_count": null,
      "outputs": [
        {
          "output_type": "stream",
          "name": "stdout",
          "text": [
            "root\n",
            " |-- path: string (nullable = true)\n",
            " |-- label: string (nullable = true)\n",
            " |-- pca_array[0]: double (nullable = true)\n",
            " |-- pca_array[1]: double (nullable = true)\n",
            " |-- pca_array[2]: double (nullable = true)\n",
            " |-- pca_array[3]: double (nullable = true)\n",
            " |-- pca_array[4]: double (nullable = true)\n",
            " |-- pca_array[5]: double (nullable = true)\n",
            " |-- pca_array[6]: double (nullable = true)\n",
            " |-- pca_array[7]: double (nullable = true)\n",
            " |-- pca_array[8]: double (nullable = true)\n",
            "\n"
          ]
        }
      ]
    },
    {
      "cell_type": "code",
      "source": [
        "df.write.format('csv').option('header','true').save('s3a://pr8/df_final.csv', mode='overwrite')"
      ],
      "metadata": {
        "id": "q7JrKuyAYZtv"
      },
      "execution_count": null,
      "outputs": []
    }
  ]
}